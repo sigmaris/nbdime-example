{
 "metadata": {
  "name": "shopping_list"
 },
 "nbformat": 3,
 "nbformat_minor": 0,
 "worksheets": [
  {
   "cells": [
    {
     "cell_type": "code",
     "collapsed": false,
     "input": "shopping_list = [ \"bananas\", \"carrots\", \"tea\" ]",
     "language": "python",
     "metadata": {},
     "outputs": [],
     "prompt_number": 6
    },
    {
     "cell_type": "code",
     "collapsed": false,
     "input": "print(shopping_list)",
     "language": "python",
     "metadata": {},
     "outputs": [
      {
       "output_type": "stream",
       "stream": "stdout",
       "text": "['bananas', 'carrots', 'tea']\n"
      }
     ],
     "prompt_number": 7
    },
    {
     "cell_type": "code",
     "collapsed": false,
     "input": "if \"bananas\" in shopping_list:\n    print(\"Don't forget to get the bananas!\")",
     "language": "python",
     "metadata": {},
     "outputs": [
      {
       "output_type": "stream",
       "stream": "stdout",
       "text": "Don't forget to get the bananas!\n"
      }
     ],
     "prompt_number": 8
    },
    {
     "cell_type": "markdown",
     "metadata": {},
     "source": "## Things to try\n\n* Change the first cell to add different items to the shopping_list. Rerun the second and third cells to see the differences in out.\n\n* "
    }
   ],
   "metadata": {}
  }
 ]
}